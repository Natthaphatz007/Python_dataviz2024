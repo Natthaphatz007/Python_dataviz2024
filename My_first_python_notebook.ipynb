{
  "nbformat": 4,
  "nbformat_minor": 0,
  "metadata": {
    "colab": {
      "provenance": [],
      "authorship_tag": "ABX9TyMYa0Db8lYhBR9vzCGNDeaU",
      "include_colab_link": true
    },
    "kernelspec": {
      "name": "python3",
      "display_name": "Python 3"
    },
    "language_info": {
      "name": "python"
    }
  },
  "cells": [
    {
      "cell_type": "markdown",
      "metadata": {
        "id": "view-in-github",
        "colab_type": "text"
      },
      "source": [
        "<a href=\"https://colab.research.google.com/github/Natthaphatz007/Python_dataviz2024/blob/main/My_first_python_notebook.ipynb\" target=\"_parent\"><img src=\"https://colab.research.google.com/assets/colab-badge.svg\" alt=\"Open In Colab\"/></a>"
      ]
    },
    {
      "cell_type": "markdown",
      "source": [
        "Basic Progamming for Data Science & Data Visualizartion\n",
        "\n",
        "here we use **Markdown**\n",
        "\n"
      ],
      "metadata": {
        "id": "OhtB6-cBRlHB"
      }
    },
    {
      "cell_type": "code",
      "execution_count": 3,
      "metadata": {
        "colab": {
          "base_uri": "https://localhost:8080/"
        },
        "id": "0dvbevJLQ9SK",
        "outputId": "7a0b8431-7418-4b9f-db09-08862814ecfe"
      },
      "outputs": [
        {
          "output_type": "stream",
          "name": "stdout",
          "text": [
            "Natthaphat\n"
          ]
        }
      ],
      "source": [
        "print('Natthaphat')"
      ]
    },
    {
      "cell_type": "code",
      "source": [
        "print('Taksin')"
      ],
      "metadata": {
        "colab": {
          "base_uri": "https://localhost:8080/"
        },
        "id": "b6lBML5qSwaa",
        "outputId": "c0dcef9c-c2bf-4ebd-f629-e3376c65a949"
      },
      "execution_count": 5,
      "outputs": [
        {
          "output_type": "stream",
          "name": "stdout",
          "text": [
            "Taksin\n"
          ]
        }
      ]
    }
  ]
}